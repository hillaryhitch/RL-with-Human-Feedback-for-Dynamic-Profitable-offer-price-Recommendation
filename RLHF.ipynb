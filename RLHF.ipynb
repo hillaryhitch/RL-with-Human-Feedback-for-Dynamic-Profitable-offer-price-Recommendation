{
 "cells": [
  {
   "cell_type": "code",
   "execution_count": 24,
   "id": "a1b2c853-6344-4ada-886b-f1016a7e3742",
   "metadata": {},
   "outputs": [
    {
     "name": "stdout",
     "output_type": "stream",
     "text": [
      "Product price: $104, Reward: $104, Buy: True\n"
     ]
    },
    {
     "name": "stdin",
     "output_type": "stream",
     "text": [
      "Is ksh.244 an acceptable price for Group 1 with copcar 335 (y/n)?  n\n"
     ]
    },
    {
     "name": "stdout",
     "output_type": "stream",
     "text": [
      "Product price: $244, Reward: $0, Buy: False\n"
     ]
    },
    {
     "name": "stdin",
     "output_type": "stream",
     "text": [
      "Is ksh.110 an acceptable price for Group 1 with copcar 335 (y/n)?  n\n"
     ]
    },
    {
     "name": "stdout",
     "output_type": "stream",
     "text": [
      "Product price: $110, Reward: $0, Buy: False\n"
     ]
    },
    {
     "name": "stdin",
     "output_type": "stream",
     "text": [
      "Is ksh.425 an acceptable price for Group 1 with copcar 335 (y/n)?  y\n"
     ]
    },
    {
     "name": "stdout",
     "output_type": "stream",
     "text": [
      "Product price: $425, Reward: $0, Buy: False\n"
     ]
    },
    {
     "ename": "KeyboardInterrupt",
     "evalue": "Interrupted by user",
     "output_type": "error",
     "traceback": [
      "\u001b[0;31m---------------------------------------------------------------------------\u001b[0m",
      "\u001b[0;31mKeyboardInterrupt\u001b[0m                         Traceback (most recent call last)",
      "\u001b[0;32m<ipython-input-24-9bc5898c6099>\u001b[0m in \u001b[0;36m<module>\u001b[0;34m\u001b[0m\n\u001b[1;32m     72\u001b[0m         \u001b[0;31m# get human input if the customer does not buy and update the Q-value\u001b[0m\u001b[0;34m\u001b[0m\u001b[0;34m\u001b[0m\u001b[0;34m\u001b[0m\u001b[0m\n\u001b[1;32m     73\u001b[0m         \u001b[0;32mif\u001b[0m \u001b[0;32mnot\u001b[0m \u001b[0mbuy\u001b[0m\u001b[0;34m:\u001b[0m\u001b[0;34m\u001b[0m\u001b[0;34m\u001b[0m\u001b[0m\n\u001b[0;32m---> 74\u001b[0;31m             \u001b[0mprice\u001b[0m\u001b[0;34m,\u001b[0m \u001b[0maccepted\u001b[0m \u001b[0;34m=\u001b[0m \u001b[0mget_human_input\u001b[0m\u001b[0;34m(\u001b[0m\u001b[0mstate\u001b[0m\u001b[0;34m,\u001b[0m \u001b[0mmin_price\u001b[0m\u001b[0;34m)\u001b[0m\u001b[0;34m\u001b[0m\u001b[0;34m\u001b[0m\u001b[0m\n\u001b[0m\u001b[1;32m     75\u001b[0m             \u001b[0;32mif\u001b[0m \u001b[0maccepted\u001b[0m\u001b[0;34m:\u001b[0m\u001b[0;34m\u001b[0m\u001b[0;34m\u001b[0m\u001b[0m\n\u001b[1;32m     76\u001b[0m                 \u001b[0mq_values\u001b[0m\u001b[0;34m[\u001b[0m\u001b[0mstate_space\u001b[0m\u001b[0;34m.\u001b[0m\u001b[0mindex\u001b[0m\u001b[0;34m(\u001b[0m\u001b[0mstate\u001b[0m\u001b[0;34m)\u001b[0m\u001b[0;34m,\u001b[0m \u001b[0maction\u001b[0m\u001b[0;34m]\u001b[0m \u001b[0;34m+=\u001b[0m \u001b[0mprice\u001b[0m\u001b[0;34m\u001b[0m\u001b[0;34m\u001b[0m\u001b[0m\n",
      "\u001b[0;32m<ipython-input-24-9bc5898c6099>\u001b[0m in \u001b[0;36mget_human_input\u001b[0;34m(state, min_price)\u001b[0m\n\u001b[1;32m     40\u001b[0m \u001b[0;32mdef\u001b[0m \u001b[0mget_human_input\u001b[0m\u001b[0;34m(\u001b[0m\u001b[0mstate\u001b[0m\u001b[0;34m,\u001b[0m \u001b[0mmin_price\u001b[0m\u001b[0;34m)\u001b[0m\u001b[0;34m:\u001b[0m\u001b[0;34m\u001b[0m\u001b[0;34m\u001b[0m\u001b[0m\n\u001b[1;32m     41\u001b[0m     \u001b[0;32mwhile\u001b[0m \u001b[0;32mTrue\u001b[0m\u001b[0;34m:\u001b[0m\u001b[0;34m\u001b[0m\u001b[0;34m\u001b[0m\u001b[0m\n\u001b[0;32m---> 42\u001b[0;31m         \u001b[0mhuman_response\u001b[0m \u001b[0;34m=\u001b[0m \u001b[0minput\u001b[0m\u001b[0;34m(\u001b[0m\u001b[0;34mf\"Is ksh.{price_range[state[1]]} an acceptable price for {state[0]} with copcar {min_prices[int(state[0][-2:])]} (y/n)? \"\u001b[0m\u001b[0;34m)\u001b[0m\u001b[0;34m\u001b[0m\u001b[0;34m\u001b[0m\u001b[0m\n\u001b[0m\u001b[1;32m     43\u001b[0m         \u001b[0;32mif\u001b[0m \u001b[0mhuman_response\u001b[0m \u001b[0;34m==\u001b[0m \u001b[0;34m'y'\u001b[0m\u001b[0;34m:\u001b[0m\u001b[0;34m\u001b[0m\u001b[0;34m\u001b[0m\u001b[0m\n\u001b[1;32m     44\u001b[0m             \u001b[0;32mreturn\u001b[0m \u001b[0mprice_range\u001b[0m\u001b[0;34m[\u001b[0m\u001b[0mstate\u001b[0m\u001b[0;34m[\u001b[0m\u001b[0;36m1\u001b[0m\u001b[0;34m]\u001b[0m\u001b[0;34m]\u001b[0m\u001b[0;34m,\u001b[0m \u001b[0;32mTrue\u001b[0m\u001b[0;34m\u001b[0m\u001b[0;34m\u001b[0m\u001b[0m\n",
      "\u001b[0;32m~/.local/lib/python3.6/site-packages/ipykernel/kernelbase.py\u001b[0m in \u001b[0;36mraw_input\u001b[0;34m(self, prompt)\u001b[0m\n\u001b[1;32m    852\u001b[0m             \u001b[0mself\u001b[0m\u001b[0;34m.\u001b[0m\u001b[0m_parent_ident\u001b[0m\u001b[0;34m,\u001b[0m\u001b[0;34m\u001b[0m\u001b[0;34m\u001b[0m\u001b[0m\n\u001b[1;32m    853\u001b[0m             \u001b[0mself\u001b[0m\u001b[0;34m.\u001b[0m\u001b[0m_parent_header\u001b[0m\u001b[0;34m,\u001b[0m\u001b[0;34m\u001b[0m\u001b[0;34m\u001b[0m\u001b[0m\n\u001b[0;32m--> 854\u001b[0;31m             \u001b[0mpassword\u001b[0m\u001b[0;34m=\u001b[0m\u001b[0;32mFalse\u001b[0m\u001b[0;34m,\u001b[0m\u001b[0;34m\u001b[0m\u001b[0;34m\u001b[0m\u001b[0m\n\u001b[0m\u001b[1;32m    855\u001b[0m         )\n\u001b[1;32m    856\u001b[0m \u001b[0;34m\u001b[0m\u001b[0m\n",
      "\u001b[0;32m~/.local/lib/python3.6/site-packages/ipykernel/kernelbase.py\u001b[0m in \u001b[0;36m_input_request\u001b[0;34m(self, prompt, ident, parent, password)\u001b[0m\n\u001b[1;32m    893\u001b[0m             \u001b[0;32mexcept\u001b[0m \u001b[0mKeyboardInterrupt\u001b[0m\u001b[0;34m:\u001b[0m\u001b[0;34m\u001b[0m\u001b[0;34m\u001b[0m\u001b[0m\n\u001b[1;32m    894\u001b[0m                 \u001b[0;31m# re-raise KeyboardInterrupt, to truncate traceback\u001b[0m\u001b[0;34m\u001b[0m\u001b[0;34m\u001b[0m\u001b[0;34m\u001b[0m\u001b[0m\n\u001b[0;32m--> 895\u001b[0;31m                 \u001b[0;32mraise\u001b[0m \u001b[0mKeyboardInterrupt\u001b[0m\u001b[0;34m(\u001b[0m\u001b[0;34m\"Interrupted by user\"\u001b[0m\u001b[0;34m)\u001b[0m \u001b[0;32mfrom\u001b[0m \u001b[0;32mNone\u001b[0m\u001b[0;34m\u001b[0m\u001b[0;34m\u001b[0m\u001b[0m\n\u001b[0m\u001b[1;32m    896\u001b[0m             \u001b[0;32mexcept\u001b[0m \u001b[0mException\u001b[0m \u001b[0;32mas\u001b[0m \u001b[0me\u001b[0m\u001b[0;34m:\u001b[0m\u001b[0;34m\u001b[0m\u001b[0;34m\u001b[0m\u001b[0m\n\u001b[1;32m    897\u001b[0m                 \u001b[0mself\u001b[0m\u001b[0;34m.\u001b[0m\u001b[0mlog\u001b[0m\u001b[0;34m.\u001b[0m\u001b[0mwarning\u001b[0m\u001b[0;34m(\u001b[0m\u001b[0;34m\"Invalid Message:\"\u001b[0m\u001b[0;34m,\u001b[0m \u001b[0mexc_info\u001b[0m\u001b[0;34m=\u001b[0m\u001b[0;32mTrue\u001b[0m\u001b[0;34m)\u001b[0m\u001b[0;34m\u001b[0m\u001b[0;34m\u001b[0m\u001b[0m\n",
      "\u001b[0;31mKeyboardInterrupt\u001b[0m: Interrupted by user"
     ]
    }
   ],
   "source": [
    "import numpy as np\n",
    "from datetime import datetime, timedelta\n",
    "\n",
    "# Generating an array of 2000 random integers between 50 and 500 to represent the price range of each product.\n",
    "price_range = np.random.randint(50, 500, size=2000)\n",
    "\n",
    "# Creating a list of 10 customer groups and generating an array of 10 random integers between 50 and 500 \n",
    "#to represent the minimum price each group is willing to pay for a product.(copcar)\n",
    "customer_groups = ['Group 1', 'Group 2', 'Group 3', 'Group 4', 'Group 5', 'Group 6', 'Group 7', 'Group 8', 'Group 9', 'Group 10']\n",
    "min_prices = np.random.randint(50, 500, size=10)\n",
    "\n",
    "# Creating a state space, which is a list of tuples representing all possible states of the system. \n",
    "#Each tuple contains a customer group and a product index. \n",
    "#The action space is a list of integers from 0 to 1999, representing the index of each product.\n",
    "state_space = [(customer, product) for customer in customer_groups for product in range(2000)]\n",
    "action_space = range(2000)\n",
    "\n",
    "# initialize the Q-values for all state-action pairs to zero\n",
    "q_values = np.zeros((len(state_space), len(action_space)))\n",
    "\n",
    "# Defining the epsilon-greedy policy for selecting an action in a given state. \n",
    "#The policy chooses a random action with probability epsilon, or chooses the action with the highest Q-value for the given state with probability 1-epsilon.\n",
    "def epsilon_greedy(state, q_values, epsilon=0.1):\n",
    "    if np.random.uniform(0, 1) < epsilon:\n",
    "        action = np.random.choice(action_space)\n",
    "    else:\n",
    "        state_idx = state_space.index(state)\n",
    "        action = np.argmax(q_values[state_idx])\n",
    "    return action\n",
    "\n",
    "# Defining a function to simulate a customer's purchase behavior for a given product and minimum price. \n",
    "#The function returns the reward (i.e. the price of the product if purchased) \n",
    "#and a boolean indicating whether the customer bought the product.\n",
    "def simulate_customer(customer, product, min_price):\n",
    "    # simulate if the customer buys or not\n",
    "    buy_prob = max(0, (min_price - price_range[product]) / min_price)\n",
    "    if np.random.uniform(0, 1) < buy_prob:\n",
    "        reward = price_range[product]\n",
    "        buy = True\n",
    "    else:\n",
    "        reward = 0\n",
    "        buy = False\n",
    "    return reward, buy\n",
    "\n",
    "# Defining a function to obtain input from a human to determine the minimum price that a customer is willing to pay for a product. \n",
    "#The function displays the current price of the product and the customer's minimum price for products (i.e. copcar) in the console and waits for the human's input.\n",
    "#If the human enters '\n",
    "def get_human_input(state, min_price):\n",
    "    while True:\n",
    "        human_response = input(f\"Is ksh.{price_range[state[1]]} an acceptable price for {state[0]} with copcar {min_prices[int(state[0][-2:])]} (y/n)? \")\n",
    "        if human_response == 'y':\n",
    "            return price_range[state[1]], True\n",
    "        elif human_response == 'n':\n",
    "            return min_price + 10, False\n",
    "        else:\n",
    "            print(\"Invalid input, please enter 'y' or 'n'.\")\n",
    "\n",
    "# run the simulation with human input\n",
    "# get the start time of the simulation\n",
    "start_time = datetime.now()\n",
    "\n",
    "# set a time limit for the simulation\n",
    "time_limit = timedelta(minutes=30)\n",
    "\n",
    "# loop through each customer and product\n",
    "for i in range(10):\n",
    "    # get the current customer group and their minimum price\n",
    "    customer = customer_groups[i]\n",
    "    min_price = min_prices[i]\n",
    "    \n",
    "    for j in range(2000):\n",
    "        # get the current product\n",
    "        product = j\n",
    "        \n",
    "        # check if time limit has been reached\n",
    "        if datetime.now() - start_time > time_limit:\n",
    "            # if time limit has been reached, stop the simulation for the current customer and move on to the next\n",
    "            print(\"Time limit reached, moving to next customer.\")\n",
    "            break\n",
    "        \n",
    "        # simulate the customer and get the reward\n",
    "        # determine whether the customer buys the product, and the reward associated with that\n",
    "        reward, buy = simulate_customer(customer, product, min_price)\n",
    "\n",
    "        # update the state and Q-value for the chosen action\n",
    "        # determine the current state, and choose an action based on the epsilon-greedy policy\n",
    "        state = (customer, product)\n",
    "        action = epsilon_greedy(state, q_values)\n",
    "        q_values[state_space.index(state), action] += reward\n",
    "        \n",
    "        # get human input if the customer does not buy and update the Q-value\n",
    "        # if the customer does not buy the product, prompt the human for input on whether the product is priced too high\n",
    "        if not buy:\n",
    "            price, accepted = get_human_input(state, min_price)\n",
    "            if accepted:\n",
    "                # if the human accepts the price, add it to the Q-value for the chosen action\n",
    "                q_values[state_space.index(state), action] += price\n",
    "            else:\n",
    "                # if the human does not accept the price, subtract 10 from the Q-value for the chosen action\n",
    "                q_values[state_space.index(state), action] -= 10\n",
    "        \n",
    "        # print the product price, reward, and whether the customer buys\n",
    "        # output the product price, reward and whether the customer buys or not\n",
    "        print(f\"Product price: ${price_range[product]}, Reward: ${reward}, Buy: {buy}\")\n",
    "\n"
   ]
  },
  {
   "cell_type": "code",
   "execution_count": 14,
   "id": "89b0455b-42c0-4652-a67a-fbdd7e9be0ed",
   "metadata": {},
   "outputs": [
    {
     "data": {
      "text/plain": [
       "array([ 66, 210, 223,  64, 206,  85, 210, 108, 268, 288])"
      ]
     },
     "execution_count": 14,
     "metadata": {},
     "output_type": "execute_result"
    }
   ],
   "source": [
    "min_prices"
   ]
  },
  {
   "cell_type": "code",
   "execution_count": 19,
   "id": "63a7a5b3-8cc0-41e1-b155-13f71303e460",
   "metadata": {},
   "outputs": [
    {
     "data": {
      "text/plain": [
       "210"
      ]
     },
     "execution_count": 19,
     "metadata": {},
     "output_type": "execute_result"
    }
   ],
   "source": [
    "min_prices[int(state[0][-2:])]"
   ]
  },
  {
   "cell_type": "code",
   "execution_count": 22,
   "id": "081f546f-9819-4af2-a9a3-9884bfc6779e",
   "metadata": {},
   "outputs": [
    {
     "data": {
      "text/plain": [
       "2"
      ]
     },
     "execution_count": 22,
     "metadata": {},
     "output_type": "execute_result"
    }
   ],
   "source": [
    "product"
   ]
  },
  {
   "cell_type": "code",
   "execution_count": 23,
   "id": "aaeccddc-eee3-4528-b640-51877c8284f9",
   "metadata": {},
   "outputs": [
    {
     "data": {
      "text/plain": [
       "array([120, 496, 180, ...,  82, 255, 306])"
      ]
     },
     "execution_count": 23,
     "metadata": {},
     "output_type": "execute_result"
    }
   ],
   "source": [
    "price_range"
   ]
  },
  {
   "cell_type": "code",
   "execution_count": null,
   "id": "371ab593-b1b6-4d3e-a52d-13ee1711d425",
   "metadata": {},
   "outputs": [],
   "source": []
  }
 ],
 "metadata": {
  "kernelspec": {
   "display_name": "Python 3",
   "language": "python",
   "name": "python3"
  },
  "language_info": {
   "codemirror_mode": {
    "name": "ipython",
    "version": 3
   },
   "file_extension": ".py",
   "mimetype": "text/x-python",
   "name": "python",
   "nbconvert_exporter": "python",
   "pygments_lexer": "ipython3",
   "version": "3.6.8"
  }
 },
 "nbformat": 4,
 "nbformat_minor": 5
}
